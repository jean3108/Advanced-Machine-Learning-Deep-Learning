{
 "cells": [
  {
   "cell_type": "code",
   "execution_count": 1,
   "metadata": {},
   "outputs": [],
   "source": [
    "import torch\n",
    "import torch.nn as nn\n",
    "import numpy as np\n",
    "import logging\n",
    "from torch.utils.data import Dataset, DataLoader\n",
    "from utils import normalize, cleanTrumpData, Dataset_trump, id2lettre, string2code, EOS_IX\n",
    "from textloader import TextDataset, collate_fn\n",
    "from tp5 import RNN, GRU, LSTM, maskedCrossEntropy\n",
    "from generate import generate, generate_beam\n",
    "\n",
    "device = torch.device(\"cuda\" if torch.cuda.is_available() else \"cpu\")\n",
    "logging.basicConfig(level=logging.INFO)"
   ]
  },
  {
   "cell_type": "code",
   "execution_count": 2,
   "metadata": {},
   "outputs": [],
   "source": [
    "with open(\"data/trump_full_speech.txt\", 'r') as f:\n",
    "    data = f.read()"
   ]
  },
  {
   "cell_type": "code",
   "execution_count": 3,
   "metadata": {},
   "outputs": [],
   "source": [
    "cleanedData = cleanTrumpData(data)[:]"
   ]
  },
  {
   "cell_type": "code",
   "execution_count": 4,
   "metadata": {},
   "outputs": [],
   "source": [
    "coefTrain = 0.8\n",
    "nbTrain = int(len(cleanedData)*coefTrain)\n",
    "trainData, testData = cleanedData[:nbTrain], cleanedData[nbTrain:]#Ici on sépare la données brut mais les phrases ayant des tailles différentes, on pourrait avoir une train/test ne respectant pas la proportion indiquer\n",
    "BATCH_SIZE = 32\n",
    "embedding = nn.Embedding(len(id2lettre), len(id2lettre))"
   ]
  },
  {
   "cell_type": "code",
   "execution_count": 5,
   "metadata": {},
   "outputs": [],
   "source": [
    "num_epochs = 2\n",
    "latent_size = 64\n",
    "input_dim = len(id2lettre)\n",
    "output_dim = len(id2lettre)\n",
    "lr=1e-3\n",
    "\n",
    "model = RNN(latent_size, input_dim, output_dim)\n",
    "\n",
    "optimizer = torch.optim.Adam(params=model.parameters(), lr=lr)\n",
    "optimizer.zero_grad()\n",
    "\n",
    "criterion = maskedCrossEntropy"
   ]
  },
  {
   "cell_type": "code",
   "execution_count": 6,
   "metadata": {},
   "outputs": [],
   "source": [
    "def getOuputs(model, seqs):\n",
    "    X = embedding(seqs[:, :-1])\n",
    "    hidden_states = model(X.permute(1,0,2)).permute(1,0,2)\n",
    "    return model.decode(hidden_states).view(-1, X.shape[2])"
   ]
  },
  {
   "cell_type": "code",
   "execution_count": 7,
   "metadata": {},
   "outputs": [],
   "source": [
    "train_loader = DataLoader(TextDataset(trainData), collate_fn=collate_fn, batch_size=BATCH_SIZE, drop_last=True)\n",
    "test_loader = DataLoader(TextDataset(testData), collate_fn=collate_fn, batch_size=BATCH_SIZE, drop_last=True)"
   ]
  },
  {
   "cell_type": "code",
   "execution_count": 8,
   "metadata": {},
   "outputs": [
    {
     "name": "stdout",
     "output_type": "stream",
     "text": [
      "Training ...\n",
      "Itérations 0: train loss 2.7300894260406494, test loss 2.787170171737671\n",
      "Itérations 1: train loss 2.630636692047119, test loss 2.6956629753112793\n"
     ]
    }
   ],
   "source": [
    "# Training loop\n",
    "print(\"Training ...\")\n",
    "\n",
    "for epoch in range(num_epochs):\n",
    "    model.train()\n",
    "    for i, sequences in enumerate(train_loader):\n",
    "\n",
    "        optimizer.zero_grad()\n",
    "        #import ipdb; ipdb.set_trace()\n",
    "        outputs = getOuputs(model, sequences)\n",
    "        y = sequences[:, 1:].reshape(-1)\n",
    "\n",
    "        \n",
    "        #import ipdb; ipdb.set_trace()\n",
    "        train_loss = criterion(outputs, y)\n",
    "        train_loss.backward()\n",
    "        optimizer.step()\n",
    "\n",
    "        #writer.add_scalar('Loss/train', train_loss, epoch)\n",
    "\n",
    "    model.eval()\n",
    "    for i, sequences in enumerate(test_loader):\n",
    "        with torch.no_grad():\n",
    "            outputs = getOuputs(model, sequences)\n",
    "            y = sequences[:, 1:].reshape(-1)\n",
    "\n",
    "            test_loss = criterion(outputs, y)\n",
    "\n",
    "        #writer.add_scalar('Loss/test', test_loss, epoch)\n",
    "  #if(epoch%10==0):\n",
    "    print(f\"Itérations {epoch}: train loss {train_loss}, test loss {test_loss}\")"
   ]
  },
  {
   "cell_type": "code",
   "execution_count": 9,
   "metadata": {},
   "outputs": [
    {
     "data": {
      "text/plain": [
       "'t'"
      ]
     },
     "execution_count": 9,
     "metadata": {},
     "output_type": "execute_result"
    }
   ],
   "source": [
    "generate(model, embedding, model.decode, EOS_IX, start=\"t\", maxlen=0)"
   ]
  },
  {
   "cell_type": "code",
   "execution_count": 10,
   "metadata": {},
   "outputs": [
    {
     "data": {
      "text/plain": [
       "([[19, 6, 29], [19, 29, 21], [19, 29, 2]],\n",
       " [tensor(-6.1789, grad_fn=<AddBackward0>),\n",
       "  tensor(-6.5342, grad_fn=<AddBackward0>),\n",
       "  tensor(-6.5370, grad_fn=<AddBackward0>)])"
      ]
     },
     "execution_count": 10,
     "metadata": {},
     "output_type": "execute_result"
    }
   ],
   "source": [
    "generate_beam(model, embedding, model.decode, EOS_IX, 3, start=\"the\", maxlen=3)"
   ]
  },
  {
   "cell_type": "code",
   "execution_count": null,
   "metadata": {},
   "outputs": [],
   "source": []
  }
 ],
 "metadata": {
  "kernelspec": {
   "display_name": "Python 3",
   "language": "python",
   "name": "python3"
  },
  "language_info": {
   "codemirror_mode": {
    "name": "ipython",
    "version": 3
   },
   "file_extension": ".py",
   "mimetype": "text/x-python",
   "name": "python",
   "nbconvert_exporter": "python",
   "pygments_lexer": "ipython3",
   "version": "3.8.3"
  }
 },
 "nbformat": 4,
 "nbformat_minor": 4
}
