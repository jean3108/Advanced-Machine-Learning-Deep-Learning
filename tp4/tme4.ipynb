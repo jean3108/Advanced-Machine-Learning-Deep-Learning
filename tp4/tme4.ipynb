{
 "cells": [
  {
   "cell_type": "markdown",
   "metadata": {},
   "source": [
    "# File utils"
   ]
  },
  {
   "cell_type": "code",
   "execution_count": 1,
   "metadata": {},
   "outputs": [],
   "source": [
    "import torch\n",
    "import torch.nn as nn\n",
    "import logging\n",
    "from torch.utils.data import Dataset, DataLoader\n",
    "from utils import normalize, cleanTrumpData, read_temps, \\\n",
    "                Dataset_trump, Dataset_tempClassif, Dataset_tempSerie, RNN, \\\n",
    "                id2lettre, string2code\n",
    "\n",
    "device = torch.device(\"cuda\" if torch.cuda.is_available() else \"cpu\")\n",
    "logging.basicConfig(level=logging.INFO)"
   ]
  },
  {
   "cell_type": "markdown",
   "metadata": {},
   "source": [
    "# TME classification"
   ]
  },
  {
   "cell_type": "code",
   "execution_count": 2,
   "metadata": {},
   "outputs": [],
   "source": [
    "temp_train = read_temps(\"data/tempAMAL_train.csv\").unsqueeze(2)\n",
    "temp_test = read_temps(\"data/tempAMAL_test.csv\").unsqueeze(2)"
   ]
  },
  {
   "cell_type": "code",
   "execution_count": 3,
   "metadata": {},
   "outputs": [],
   "source": [
    "nbClasse = 5\n",
    "longueurData = 30\n",
    "BATCH_SIZE = 6\n",
    "longueurSeq = 4"
   ]
  },
  {
   "cell_type": "code",
   "execution_count": 4,
   "metadata": {},
   "outputs": [],
   "source": [
    "temp_train = temp_train[:longueurData, :nbClasse]\n",
    "temp_test = temp_test[:longueurData, :nbClasse]"
   ]
  },
  {
   "cell_type": "code",
   "execution_count": 5,
   "metadata": {},
   "outputs": [],
   "source": [
    "train_loader = DataLoader(Dataset_tempClassif(temp_train, None, longueurSeq), shuffle=True, batch_size=BATCH_SIZE)\n",
    "test_loader = DataLoader(Dataset_tempClassif(temp_test, None, longueurSeq), shuffle=True, batch_size=BATCH_SIZE)"
   ]
  },
  {
   "cell_type": "code",
   "execution_count": 6,
   "metadata": {},
   "outputs": [],
   "source": [
    "num_epochs = 10\n",
    "latent_size = 10\n",
    "input_dim = 1\n",
    "output_dim = nbClasse\n",
    "lr=1e-3\n",
    "\n",
    "model = RNN(latent_size, input_dim, output_dim)\n",
    "\n",
    "optimizer = torch.optim.Adam(params=model.parameters(), lr=lr)\n",
    "optimizer.zero_grad()\n",
    "\n",
    "criterion = torch.nn.CrossEntropyLoss()"
   ]
  },
  {
   "cell_type": "code",
   "execution_count": 7,
   "metadata": {},
   "outputs": [
    {
     "name": "stdout",
     "output_type": "stream",
     "text": [
      "Training ...\n",
      "Itérations 0: train loss 1.6130918264389038, test loss 1.761473298072815\n",
      "Itérations 1: train loss 1.7357286214828491, test loss 1.5339568853378296\n",
      "Itérations 2: train loss 1.6905523538589478, test loss 1.6691385507583618\n",
      "Itérations 3: train loss 1.5939311981201172, test loss 1.660255789756775\n",
      "Itérations 4: train loss 1.5693974494934082, test loss 1.6154125928878784\n",
      "Itérations 5: train loss 1.708225131034851, test loss 1.5710887908935547\n",
      "Itérations 6: train loss 1.5808273553848267, test loss 1.6105331182479858\n",
      "Itérations 7: train loss 1.5961437225341797, test loss 1.5861501693725586\n",
      "Itérations 8: train loss 1.5846524238586426, test loss 1.6154108047485352\n",
      "Itérations 9: train loss 1.6296206712722778, test loss 1.6009403467178345\n"
     ]
    }
   ],
   "source": [
    "# Training loop\n",
    "print(\"Training ...\")\n",
    "\n",
    "for epoch in range(num_epochs):\n",
    "    model.train()\n",
    "    for i, (sequences, labels) in enumerate(train_loader):\n",
    "\n",
    "        optimizer.zero_grad()\n",
    "        \n",
    "        hidden_states = model(sequences.permute(1,0,2))\n",
    "        outputs = model.decode(hidden_states[-1])\n",
    "\n",
    "        train_loss = criterion(outputs, labels)\n",
    "        train_loss.backward()\n",
    "        optimizer.step()\n",
    "        #writer.add_scalar('Loss/train', train_loss, epoch)\n",
    "    \n",
    "\n",
    "    model.eval()\n",
    "    for i, (sequences, labels) in enumerate(test_loader):\n",
    "        with torch.no_grad():\n",
    "\n",
    "            hidden_states = model(sequences.permute(1,0,2))\n",
    "            outputs = model.decode(hidden_states[-1])\n",
    "            test_loss = criterion(outputs, labels)\n",
    "\n",
    "        #writer.add_scalar('Loss/test', test_loss, epoch)\n",
    "  #if(epoch%10==0):\n",
    "    print(f\"Itérations {epoch}: train loss {train_loss}, test loss {test_loss}\")"
   ]
  },
  {
   "cell_type": "markdown",
   "metadata": {},
   "source": [
    "# TME serie temporelle "
   ]
  },
  {
   "cell_type": "code",
   "execution_count": 14,
   "metadata": {},
   "outputs": [],
   "source": [
    "temp_train = read_temps(\"data/tempAMAL_train.csv\").unsqueeze(2)\n",
    "temp_test = read_temps(\"data/tempAMAL_test.csv\").unsqueeze(2)"
   ]
  },
  {
   "cell_type": "code",
   "execution_count": 15,
   "metadata": {},
   "outputs": [],
   "source": [
    "nbClasse = 1\n",
    "longueurData = 33\n",
    "BATCH_SIZE = 6\n",
    "longueurSeq = 4\n",
    "\n",
    "temp_train = temp_train[:longueurData, :nbClasse]\n",
    "temp_test = temp_test[:longueurData, :nbClasse]"
   ]
  },
  {
   "cell_type": "code",
   "execution_count": 16,
   "metadata": {},
   "outputs": [],
   "source": [
    "train_loader = DataLoader(Dataset_tempSerie(temp_train, None, longueurSeq), shuffle=True, batch_size=BATCH_SIZE, drop_last=True)\n",
    "test_loader = DataLoader(Dataset_tempSerie(temp_test, None, longueurSeq), shuffle=True, batch_size=BATCH_SIZE, drop_last=True)"
   ]
  },
  {
   "cell_type": "code",
   "execution_count": 17,
   "metadata": {},
   "outputs": [],
   "source": [
    "model = RNN(latent_size, input_dim, output_dim, act_decode=None)"
   ]
  },
  {
   "cell_type": "code",
   "execution_count": 18,
   "metadata": {},
   "outputs": [],
   "source": [
    "num_epochs = 1\n",
    "latent_size = 5\n",
    "input_dim = 1\n",
    "output_dim = 1\n",
    "lr=1e-4\n",
    "\n",
    "optimizer = torch.optim.Adam(params=model.parameters(), lr=lr)\n",
    "optimizer.zero_grad()\n",
    "\n",
    "criterion = torch.nn.MSELoss()"
   ]
  },
  {
   "cell_type": "code",
   "execution_count": 19,
   "metadata": {},
   "outputs": [
    {
     "name": "stdout",
     "output_type": "stream",
     "text": [
      "Training ...\n",
      "Itérations 0: train loss 81193.7578125, test loss 86993.65625\n"
     ]
    }
   ],
   "source": [
    "# Training loop\n",
    "print(\"Training ...\")\n",
    "\n",
    "for epoch in range(num_epochs):\n",
    "    model.train()\n",
    "    for i, (sequences, labels) in enumerate(train_loader):\n",
    "\n",
    "        optimizer.zero_grad()\n",
    "        #import ipdb; ipdb.set_trace()\n",
    "        X = sequences[:, :-1, :]\n",
    "        y = sequences[:, 1:, :]\n",
    "\n",
    "        hidden_states = model(X.permute(1,0,2))\n",
    "        outputs = model.decode(hidden_states)\n",
    "        \n",
    "        train_loss = criterion(outputs, y.permute(1,0,2))\n",
    "        train_loss.backward()\n",
    "        optimizer.step()\n",
    "\n",
    "        #writer.add_scalar('Loss/train', train_loss, epoch)\n",
    "\n",
    "    model.eval()\n",
    "    for i, (sequences, labels) in enumerate(test_loader):\n",
    "        with torch.no_grad():\n",
    "            X = sequences[:, :-1, :]\n",
    "            y = sequences[:, 1:, :]\n",
    "\n",
    "            hidden_states = model(X.permute(1,0,2))\n",
    "            outputs = model.decode(hidden_states)\n",
    "            test_loss = criterion(outputs, y.permute(1,0,2))\n",
    "\n",
    "        #writer.add_scalar('Loss/test', test_loss, epoch)\n",
    "    #if(epoch%100==0):\n",
    "    print(f\"Itérations {epoch}: train loss {train_loss}, test loss {test_loss}\")"
   ]
  },
  {
   "cell_type": "markdown",
   "metadata": {},
   "source": [
    "# TME Generation"
   ]
  },
  {
   "cell_type": "markdown",
   "metadata": {},
   "source": [
    "### Pré-traitement données trump"
   ]
  },
  {
   "cell_type": "code",
   "execution_count": 20,
   "metadata": {},
   "outputs": [],
   "source": [
    "with open(\"data/trump_full_speech.txt\", 'r') as f:\n",
    "    data = f.read()"
   ]
  },
  {
   "cell_type": "code",
   "execution_count": 21,
   "metadata": {},
   "outputs": [],
   "source": [
    "cleanedData = cleanTrumpData(data)\n",
    "cleanedNormalizedData = string2code(cleanedData)\n",
    "cleanedNormalizedData = cleanedNormalizedData[:300]#To have a little sample"
   ]
  },
  {
   "cell_type": "code",
   "execution_count": 22,
   "metadata": {},
   "outputs": [],
   "source": [
    "coefTrain = 0.8\n",
    "nbTrain = int(len(cleanedNormalizedData)*coefTrain)\n",
    "trainData, testData = cleanedNormalizedData[:nbTrain], cleanedNormalizedData[nbTrain:]\n",
    "BATCH_SIZE = 64"
   ]
  },
  {
   "cell_type": "code",
   "execution_count": 23,
   "metadata": {},
   "outputs": [],
   "source": [
    "embedding = nn.Embedding(len(id2lettre), len(id2lettre))"
   ]
  },
  {
   "cell_type": "code",
   "execution_count": 24,
   "metadata": {},
   "outputs": [],
   "source": [
    "num_epochs = 1\n",
    "latent_size = 64\n",
    "input_dim = len(id2lettre)\n",
    "output_dim = len(id2lettre)\n",
    "lr=1e-3\n",
    "\n",
    "model = RNN(latent_size, input_dim, output_dim)\n",
    "\n",
    "optimizer = torch.optim.Adam(params=model.parameters(), lr=lr)\n",
    "optimizer.zero_grad()\n",
    "\n",
    "criterion = torch.nn.CrossEntropyLoss()"
   ]
  },
  {
   "cell_type": "code",
   "execution_count": 25,
   "metadata": {},
   "outputs": [],
   "source": [
    "def getOuputs(model, seqs):\n",
    "    X = embedding(seqs[:, :-1])\n",
    "    hidden_states = model(X.permute(1,0,2)).permute(1,0,2)\n",
    "    return model.decode(hidden_states).view(-1, X.shape[2])"
   ]
  },
  {
   "cell_type": "code",
   "execution_count": 26,
   "metadata": {},
   "outputs": [
    {
     "name": "stdout",
     "output_type": "stream",
     "text": [
      "Training ...\n",
      "Itérations 0: train loss 3.319438934326172, test loss 3.282474994659424\n"
     ]
    }
   ],
   "source": [
    "train_loader = DataLoader(Dataset_trump(trainData, None), shuffle=True, batch_size=BATCH_SIZE)\n",
    "test_loader = DataLoader(Dataset_trump(testData, None), shuffle=True, batch_size=BATCH_SIZE)\n",
    "\n",
    "# Training loop\n",
    "print(\"Training ...\")\n",
    "\n",
    "for epoch in range(num_epochs):\n",
    "    model.train()\n",
    "    for i, (sequences, _) in enumerate(train_loader):\n",
    "\n",
    "        optimizer.zero_grad()\n",
    "        \n",
    "        outputs = getOuputs(model, sequences)\n",
    "        y = sequences[:, 1:].reshape(-1)\n",
    "\n",
    "        \n",
    "        \n",
    "        #import ipdb; ipdb.set_trace()\n",
    "        train_loss = criterion(outputs, y)\n",
    "        train_loss.backward()\n",
    "        optimizer.step()\n",
    "\n",
    "        #writer.add_scalar('Loss/train', train_loss, epoch)\n",
    "\n",
    "    model.eval()\n",
    "    for i, (sequences, labels) in enumerate(test_loader):\n",
    "        with torch.no_grad():\n",
    "            outputs = getOuputs(model, sequences)\n",
    "            y = sequences[:, 1:].reshape(-1)\n",
    "\n",
    "            test_loss = criterion(outputs, y)\n",
    "\n",
    "        #writer.add_scalar('Loss/test', test_loss, epoch)\n",
    "  #if(epoch%10==0):\n",
    "    print(f\"Itérations {epoch}: train loss {train_loss}, test loss {test_loss}\")"
   ]
  },
  {
   "cell_type": "code",
   "execution_count": 36,
   "metadata": {},
   "outputs": [],
   "source": [
    "#generation\n",
    "start = \"thank y\"\n",
    "nbGenere = 20\n",
    "sm = nn.LogSoftmax(dim=1)\n",
    "\n",
    "xgens = []\n",
    "\n",
    "for i in range(nbGenere):\n",
    "    \n",
    "    if(i==0):#Première fois on forward la sequence\n",
    "        X = embedding(string2code(start).unsqueeze(0))\n",
    "        hidden_states = model(X.permute(1,0,2))\n",
    "        hgen = hidden_states[-1]\n",
    "        outputs = model.decode(hgen)\n",
    "        xgen = id2lettre[int(sm(outputs)[0].argmax())]\n",
    "    else:#Ensuite on génère en one step\n",
    "        x = embedding(string2code(xgen))\n",
    "        hgen = model.one_step(x,hgen)\n",
    "        outputs = model.decode(hgen)\n",
    "        xgen = id2lettre[int(sm(outputs)[0].argmax())]\n",
    "    xgens.append(xgen)"
   ]
  },
  {
   "cell_type": "code",
   "execution_count": 37,
   "metadata": {},
   "outputs": [
    {
     "data": {
      "text/plain": [
       "'iqrzeeeeeeeeeeeeeeee'"
      ]
     },
     "execution_count": 37,
     "metadata": {},
     "output_type": "execute_result"
    }
   ],
   "source": [
    "\"\".join(xgens)"
   ]
  },
  {
   "cell_type": "code",
   "execution_count": null,
   "metadata": {},
   "outputs": [],
   "source": []
  }
 ],
 "metadata": {
  "kernelspec": {
   "display_name": "Python 3",
   "language": "python",
   "name": "python3"
  },
  "language_info": {
   "codemirror_mode": {
    "name": "ipython",
    "version": 3
   },
   "file_extension": ".py",
   "mimetype": "text/x-python",
   "name": "python",
   "nbconvert_exporter": "python",
   "pygments_lexer": "ipython3",
   "version": "3.8.3"
  }
 },
 "nbformat": 4,
 "nbformat_minor": 2
}
