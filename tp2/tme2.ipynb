{
 "cells": [
  {
   "cell_type": "code",
   "execution_count": 1,
   "metadata": {},
   "outputs": [],
   "source": [
    "import torch\n",
    "from torch.utils.tensorboard import SummaryWriter\n",
    "\n",
    "import datamaestro\n",
    "from tqdm import tqdm\n",
    "import numpy as np"
   ]
  },
  {
   "cell_type": "code",
   "execution_count": 2,
   "metadata": {},
   "outputs": [],
   "source": [
    "import torch\n",
    "from torch.utils.tensorboard import SummaryWriter\n",
    "from torch.nn.functional import linear\n",
    "from torch.nn import MSELoss"
   ]
  },
  {
   "cell_type": "code",
   "execution_count": 3,
   "metadata": {},
   "outputs": [],
   "source": [
    "from tp1 import MSE, linear, Context"
   ]
  },
  {
   "cell_type": "markdown",
   "metadata": {},
   "source": [
    "## Normalize boston Data"
   ]
  },
  {
   "cell_type": "code",
   "execution_count": 4,
   "metadata": {},
   "outputs": [],
   "source": [
    "data=datamaestro.prepare_dataset(\"edu.uci.boston\")\n",
    "colnames, datax, datay = data.data()\n",
    "datax = (datax-datax.min(axis=0))/(datax.max(axis=0)-datax.min(axis=0))"
   ]
  },
  {
   "cell_type": "markdown",
   "metadata": {},
   "source": [
    "## Apply TME1 functions"
   ]
  },
  {
   "cell_type": "code",
   "execution_count": 5,
   "metadata": {},
   "outputs": [
    {
     "name": "stdout",
     "output_type": "stream",
     "text": [
      "Itérations 0: loss 596.6293334960938\n",
      "Itérations 100: loss 222.6676483154297\n",
      "Itérations 200: loss 134.39857482910156\n",
      "Itérations 300: loss 109.70768737792969\n",
      "Itérations 400: loss 99.64109802246094\n",
      "Itérations 500: loss 93.34754180908203\n",
      "Itérations 600: loss 88.36827850341797\n",
      "Itérations 700: loss 84.10001373291016\n",
      "Itérations 800: loss 80.35552978515625\n",
      "Itérations 900: loss 77.04669952392578\n"
     ]
    }
   ],
   "source": [
    "#writer = SummaryWriter()\n",
    "\n",
    "# Les données supervisées\n",
    "x = torch.tensor(datax).float()\n",
    "y = torch.tensor(datay.reshape((len(datay), 1))).float()\n",
    "\n",
    "# Les paramètres du modèle à optimiser\n",
    "w = torch.randn(13, 1)\n",
    "b = torch.randn(1)\n",
    "\n",
    "epsilon = 0.001\n",
    "\n",
    "writer = SummaryWriter()\n",
    "for n_iter in range(1000):\n",
    "    # Pass Forward\n",
    "    ctx1 = Context()\n",
    "    ctx2 = Context()\n",
    "\n",
    "    yhat = linear.forward(ctx1,x,w,b)\n",
    "    loss = MSE.forward(ctx2,yhat,y)\n",
    "\n",
    "    # Back propagation\n",
    "    grad_yhat, grad_y = MSE.backward(ctx2, 1)\n",
    "    grad_x, grad_w, grad_b = linear.backward(ctx1, grad_yhat)\n",
    "\n",
    "    #import ipdb;ipdb.set_trace()\n",
    "\n",
    "    # Tensorboard visualization\n",
    "    # To visualize type command : tensorboard --logdir=runs in current directory\n",
    "    writer.add_scalar('Loss/train', loss, n_iter)\n",
    "    if(n_iter%100==0):\n",
    "        print(f\"Itérations {n_iter}: loss {loss}\")\n",
    "\n",
    "    # Updating parameters\n",
    "    w -= epsilon*grad_w\n",
    "    b -= epsilon*grad_b\n",
    "\n",
    "#writer.close()"
   ]
  },
  {
   "cell_type": "markdown",
   "metadata": {},
   "source": [
    "## Apply with torch functions"
   ]
  },
  {
   "cell_type": "code",
   "execution_count": 6,
   "metadata": {},
   "outputs": [
    {
     "name": "stdout",
     "output_type": "stream",
     "text": [
      "Itérations 0: loss 581.64599609375\n",
      "Itérations 100: loss 228.9104461669922\n",
      "Itérations 200: loss 144.177001953125\n",
      "Itérations 300: loss 119.27262115478516\n",
      "Itérations 400: loss 108.29158020019531\n",
      "Itérations 500: loss 101.0372314453125\n",
      "Itérations 600: loss 95.18082427978516\n",
      "Itérations 700: loss 90.13550567626953\n",
      "Itérations 800: loss 85.70738220214844\n",
      "Itérations 900: loss 81.79731750488281\n"
     ]
    }
   ],
   "source": [
    "\n",
    "# Les données supervisées\n",
    "x = torch.tensor(datax).float()\n",
    "y = torch.tensor(datay.reshape((len(datay), 1))).float()\n",
    "\n",
    "# Les paramètres du modèle à optimiser\n",
    "w =  torch.nn.Parameter(torch.randn((1, 13)))\n",
    "b =  torch.nn.Parameter(torch.randn(1))\n",
    "\n",
    "epsilon = 0.001\n",
    "\n",
    "optim = torch.optim.SGD(params=[w,b],lr=epsilon)\n",
    "optim.zero_grad()\n",
    "\n",
    "mse = MSELoss()\n",
    "\n",
    "size_batch = len(x)\n",
    "\n",
    "#writer = SummaryWriter()\n",
    "for n_iter in range(1000):\n",
    "    \n",
    "    indices = torch.randperm(len(x))\n",
    "    for i in range(int(np.ceil((len(x)/size_batch)))):\n",
    "        # Pass Forward\n",
    "        index = indices[i*size_batch:(i+1)*size_batch]\n",
    "        x_batch = x[index]\n",
    "        y_batch = y[index]\n",
    "        yhat = torch.nn.functional.linear(x_batch,w,b)\n",
    "        loss = mse(yhat,y_batch)\n",
    "\n",
    "        loss.backward()\n",
    "\n",
    "        #import ipdb;ipdb.set_trace()\n",
    "\n",
    "        # Tensorboard visualization\n",
    "        # To visualize type command : tensorboard --logdir=runs in current directory\n",
    "        #writer.add_scalar('Loss/train', loss, n_iter)\n",
    "        \n",
    "        # Updating parameters & reset grad\n",
    "        optim.step()\n",
    "        optim.zero_grad()\n",
    "        \n",
    "    if(n_iter%100==0):\n",
    "        print(f\"Itérations {n_iter}: loss {loss}\")\n",
    "\n",
    "#writer.close()"
   ]
  },
  {
   "cell_type": "markdown",
   "metadata": {},
   "source": [
    "## Try 2 couches (linear->tanh->linear->MSE)"
   ]
  },
  {
   "cell_type": "code",
   "execution_count": 7,
   "metadata": {},
   "outputs": [
    {
     "name": "stderr",
     "output_type": "stream",
     "text": [
      "C:\\ProgramData\\Anaconda3\\lib\\site-packages\\torch\\nn\\functional.py:1614: UserWarning: nn.functional.tanh is deprecated. Use torch.tanh instead.\n",
      "  warnings.warn(\"nn.functional.tanh is deprecated. Use torch.tanh instead.\")\n"
     ]
    },
    {
     "name": "stdout",
     "output_type": "stream",
     "text": [
      "Itérations 0: loss 561.5813598632812\n",
      "Itérations 100: loss 300.8995361328125\n",
      "Itérations 200: loss 181.7779541015625\n",
      "Itérations 300: loss 128.1973114013672\n",
      "Itérations 400: loss 104.13251495361328\n",
      "Itérations 500: loss 93.32368469238281\n",
      "Itérations 600: loss 88.46626281738281\n",
      "Itérations 700: loss 86.28099060058594\n",
      "Itérations 800: loss 85.29585266113281\n",
      "Itérations 900: loss 84.85005187988281\n"
     ]
    }
   ],
   "source": [
    "\n",
    "# Les données supervisées\n",
    "x = torch.tensor(datax).float()\n",
    "y = torch.tensor(datay.reshape((len(datay), 1))).float()\n",
    "\n",
    "# Les paramètres du modèle à optimiser\n",
    "w1 =  torch.nn.Parameter(torch.randn((1, 13)))\n",
    "b1 =  torch.nn.Parameter(torch.randn(1))\n",
    "\n",
    "w2 =  torch.nn.Parameter(torch.randn((1,1)))\n",
    "b2 =  torch.nn.Parameter(torch.randn(1))\n",
    "\n",
    "epsilon = 0.001\n",
    "\n",
    "optim = torch.optim.SGD(params=[w1,b1,w2,b2],lr=epsilon)\n",
    "optim.zero_grad()\n",
    "\n",
    "mse = MSELoss()\n",
    "\n",
    "size_batch = len(x)\n",
    "\n",
    "#writer = SummaryWriter()\n",
    "for n_iter in range(1000):\n",
    "    \n",
    "    indices = torch.randperm(len(x))\n",
    "    for i in range(int(np.ceil((len(x)/size_batch)))):\n",
    "        #Compute sample\n",
    "        index = indices[i*size_batch:(i+1)*size_batch]\n",
    "        x_batch = x[index]\n",
    "        y_batch = y[index]\n",
    "        \n",
    "        # Pass Forward\n",
    "        out = torch.nn.functional.linear(x_batch,w1,b1)\n",
    "        out = torch.nn.functional.tanh(out)\n",
    "        yhat = torch.nn.functional.linear(out,w2,b2)\n",
    "        loss = mse(yhat,y_batch)\n",
    "        \n",
    "        # Pass backward\n",
    "        loss.backward()\n",
    "        \n",
    "        # Updating parameters & reset grad\n",
    "        optim.step()\n",
    "        optim.zero_grad()\n",
    "        \n",
    "    if(n_iter%100==0):\n",
    "        print(f\"Itérations {n_iter}: loss {loss}\")\n",
    "\n",
    "#writer.close()"
   ]
  },
  {
   "cell_type": "markdown",
   "metadata": {},
   "source": [
    "## Use Module"
   ]
  },
  {
   "cell_type": "code",
   "execution_count": 8,
   "metadata": {},
   "outputs": [
    {
     "name": "stdout",
     "output_type": "stream",
     "text": [
      "Itérations 0: loss 598.0997924804688\n",
      "Itérations 100: loss 307.7272644042969\n",
      "Itérations 200: loss 184.63973999023438\n",
      "Itérations 300: loss 129.40939331054688\n",
      "Itérations 400: loss 104.62705993652344\n",
      "Itérations 500: loss 93.50627899169922\n",
      "Itérations 600: loss 88.51509094238281\n",
      "Itérations 700: loss 86.2741928100586\n",
      "Itérations 800: loss 85.26737213134766\n",
      "Itérations 900: loss 84.81431579589844\n"
     ]
    }
   ],
   "source": [
    "# Les données supervisées\n",
    "x = torch.tensor(datax).float()\n",
    "y = torch.tensor(datay.reshape((len(datay), 1))).float()\n",
    "\n",
    "# Module\n",
    "model = torch.nn.Sequential(\n",
    "          torch.nn.Linear(13, 1, bias=True),\n",
    "          torch.nn.Tanh(),\n",
    "          torch.nn.Linear(1, 1, bias=True)\n",
    "        )\n",
    "\n",
    "epsilon = 0.001\n",
    "\n",
    "optim = torch.optim.SGD(params=model.parameters(),lr=epsilon)\n",
    "optim.zero_grad()\n",
    "\n",
    "criterion = MSELoss()\n",
    "\n",
    "size_batch = len(x)\n",
    "\n",
    "#writer = SummaryWriter()\n",
    "for n_iter in range(1000):\n",
    "    \n",
    "    indices = torch.randperm(len(x))\n",
    "    for i in range(int(np.ceil((len(x)/size_batch)))):\n",
    "        #Compute sample\n",
    "        index = indices[i*size_batch:(i+1)*size_batch]\n",
    "        x_batch = x[index]\n",
    "        y_batch = y[index]\n",
    "        \n",
    "        # Pass Forward\n",
    "        yhat = model(x_batch)\n",
    "        loss = criterion(yhat, y_batch)\n",
    "        \n",
    "        # Pass backward\n",
    "        loss.backward()\n",
    "        \n",
    "        # Updating parameters & reset grad\n",
    "        optim.step()\n",
    "        optim.zero_grad()\n",
    "        \n",
    "    if(n_iter%100==0):\n",
    "        print(f\"Itérations {n_iter}: loss {loss}\")\n",
    "\n",
    "#writer.close()"
   ]
  },
  {
   "cell_type": "code",
   "execution_count": null,
   "metadata": {},
   "outputs": [],
   "source": []
  }
 ],
 "metadata": {
  "kernelspec": {
   "display_name": "Python 3",
   "language": "python",
   "name": "python3"
  },
  "language_info": {
   "codemirror_mode": {
    "name": "ipython",
    "version": 3
   },
   "file_extension": ".py",
   "mimetype": "text/x-python",
   "name": "python",
   "nbconvert_exporter": "python",
   "pygments_lexer": "ipython3",
   "version": "3.8.3"
  }
 },
 "nbformat": 4,
 "nbformat_minor": 4
}
