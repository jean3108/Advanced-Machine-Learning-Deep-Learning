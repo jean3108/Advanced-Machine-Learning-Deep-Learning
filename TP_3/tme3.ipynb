{
 "cells": [
  {
   "cell_type": "code",
   "execution_count": 1,
   "metadata": {},
   "outputs": [],
   "source": [
    "from pathlib import Path\n",
    "import os\n",
    "import torch\n",
    "from torchvision.utils import make_grid\n",
    "from torch.utils.data import Dataset, DataLoader\n",
    "import torch.nn as nn\n",
    "import torch.nn.functional as F\n",
    "from torch.utils.tensorboard import SummaryWriter\n",
    "import numpy as np\n",
    "import datetime\n",
    "from torch import nn"
   ]
  },
  {
   "cell_type": "code",
   "execution_count": 2,
   "metadata": {},
   "outputs": [],
   "source": [
    "# Téléchargement des données\n",
    "\n",
    "from datamaestro import prepare_dataset\n",
    "ds = prepare_dataset(\"com.lecun.mnist\");\n",
    "train_images, train_labels = ds.train.images.data(), ds.train.labels.data()\n",
    "test_images, test_labels =  ds.test.images.data(), ds.test.labels.data()"
   ]
  },
  {
   "cell_type": "code",
   "execution_count": 3,
   "metadata": {},
   "outputs": [
    {
     "name": "stderr",
     "output_type": "stream",
     "text": [
      "<ipython-input-3-7eff804f32da>:6: UserWarning: The given NumPy array is not writeable, and PyTorch does not support non-writeable tensors. This means you can write to the underlying (supposedly non-writeable) NumPy array using the tensor. You may want to copy the array to protect its data or make it writeable before converting it to a tensor. This type of warning will be suppressed for the rest of this program. (Triggered internally at  ..\\torch\\csrc\\utils\\tensor_numpy.cpp:141.)\n",
      "  images = torch.tensor(train_images[0:8]).unsqueeze(1).repeat(1,3,1,1).double()/255.\n"
     ]
    }
   ],
   "source": [
    "# Tensorboard : rappel, lancer dans une console tensorboard --logdir runs\n",
    "writer = SummaryWriter(\"runs/runs\"+datetime.datetime.now().strftime(\"%Y%m%d-%H%M%S\"))\n",
    "\n",
    "# Pour visualiser\n",
    "# Les images doivent etre en format Channel (3) x Hauteur x Largeur\n",
    "images = torch.tensor(train_images[0:8]).unsqueeze(1).repeat(1,3,1,1).double()/255.\n",
    "# Permet de fabriquer une grille d'images\n",
    "images = make_grid(images)\n",
    "# Affichage avec tensorboard\n",
    "writer.add_image(f'samples', images, 0)\n",
    "\n",
    "\n",
    "savepath = Path(\"model.pch\")\n",
    "\n",
    "#  TODO: "
   ]
  },
  {
   "cell_type": "code",
   "execution_count": 87,
   "metadata": {},
   "outputs": [],
   "source": [
    "from torch.utils.data import Dataset, DataLoader\n",
    "class MonDataset(Dataset):\n",
    "    \n",
    "    def __init__(self, data, target):\n",
    "        self.data = torch.tensor(data.reshape((data.shape[0], data.shape[1]*data.shape[2])), dtype=torch.float)\n",
    "        self.target = target\n",
    "    \n",
    "    def __getitem__(self, index):\n",
    "        return (self.data[index], self.target[index])\n",
    "    \n",
    "    def __len__(self):\n",
    "        return len(self.data)"
   ]
  },
  {
   "cell_type": "code",
   "execution_count": 101,
   "metadata": {},
   "outputs": [],
   "source": [
    "BATCH_SIZE = 1000\n",
    "data = DataLoader(MonDataset(train_images, train_labels) ,shuffle=True, batch_size=BATCH_SIZE)"
   ]
  },
  {
   "cell_type": "code",
   "execution_count": 105,
   "metadata": {},
   "outputs": [],
   "source": [
    "model = torch.nn.Sequential(\n",
    "          nn.Linear(784, 28, bias=True),\n",
    "          nn.ReLU(),\n",
    "          nn.Linear(28, 784, bias=True),\n",
    "          nn.Sigmoid(),\n",
    "        )"
   ]
  },
  {
   "cell_type": "code",
   "execution_count": 106,
   "metadata": {},
   "outputs": [],
   "source": [
    "epsilon = 0.01\n",
    "\n",
    "optim = torch.optim.SGD(params=model.parameters(),lr=epsilon)\n",
    "optim.zero_grad()\n",
    "\n",
    "criterion = nn.MSELoss()\n",
    "#criterion = nn.CrossEntropyLoss()"
   ]
  },
  {
   "cell_type": "code",
   "execution_count": 107,
   "metadata": {},
   "outputs": [
    {
     "name": "stdout",
     "output_type": "stream",
     "text": [
      "Itérations 0: loss 7187.87841796875\n",
      "Itérations 10: loss 7140.73388671875\n",
      "Itérations 20: loss 7115.4130859375\n"
     ]
    }
   ],
   "source": [
    "for n_iter in range(30):\n",
    "    \n",
    "    for x_batch, y_batch in data:\n",
    "        \n",
    "        # Pass Forward\n",
    "        yhat = model(x_batch)\n",
    "        loss = criterion(yhat, x_batch)\n",
    "        \n",
    "        # Pass backward\n",
    "        loss.backward()\n",
    "        \n",
    "        # Updating parameters & reset grad\n",
    "        optim.step()\n",
    "        optim.zero_grad()\n",
    "        \n",
    "    if(n_iter%10==0):\n",
    "        print(f\"Itérations {n_iter}: loss {loss}\")"
   ]
  },
  {
   "cell_type": "markdown",
   "metadata": {},
   "source": [
    "# Higway network"
   ]
  },
  {
   "cell_type": "code",
   "execution_count": 110,
   "metadata": {},
   "outputs": [],
   "source": [
    "class higwayModule(nn.Module):\n",
    "    \n",
    "    def __init__(self, inputDim, outputDim):\n",
    "        super(Net, self).__init__()\n",
    "        \n",
    "        # Transform gate\n",
    "        self.linear1 = nn.Linear(inputDim, outputDim, bias=True)#output dim of T ?\n",
    "        self.sigmoid = nn.Sigmoid()\n",
    "        \n",
    "        # Normal layer\n",
    "        self.linear2 = nn.Linear(inputDim, outputDim, bias=True)\n",
    "        self.relu = nn.ReLU()\n",
    "    \n",
    "    def forward(self, x):\n",
    "        \n",
    "        T = self.sigmoid(self.linear1(x))\n",
    "        C = 1.0 - T\n",
    "        H = self.relu(self.linear2(x))\n",
    "        \n",
    "        return T*H+x*C"
   ]
  },
  {
   "cell_type": "code",
   "execution_count": null,
   "metadata": {},
   "outputs": [],
   "source": []
  }
 ],
 "metadata": {
  "kernelspec": {
   "display_name": "Python 3",
   "language": "python",
   "name": "python3"
  },
  "language_info": {
   "codemirror_mode": {
    "name": "ipython",
    "version": 3
   },
   "file_extension": ".py",
   "mimetype": "text/x-python",
   "name": "python",
   "nbconvert_exporter": "python",
   "pygments_lexer": "ipython3",
   "version": "3.8.3"
  }
 },
 "nbformat": 4,
 "nbformat_minor": 4
}
