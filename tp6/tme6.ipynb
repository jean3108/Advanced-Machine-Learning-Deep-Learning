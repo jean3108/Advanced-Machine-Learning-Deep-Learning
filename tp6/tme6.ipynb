{
 "cells": [
  {
   "cell_type": "code",
   "execution_count": 1,
   "metadata": {},
   "outputs": [
    {
     "output_type": "stream",
     "name": "stderr",
     "text": [
      "INFO:root:Loading datasets...\n",
      "INFO:root:Vocabulary size: 42930\n"
     ]
    }
   ],
   "source": [
    "import itertools\n",
    "import logging\n",
    "from tqdm import tqdm\n",
    "\n",
    "from datamaestro import prepare_dataset\n",
    "from torch.utils.data import Dataset, DataLoader\n",
    "from torch.nn.utils.rnn import pad_sequence\n",
    "import torch.nn as nn\n",
    "import torch.optim as optim\n",
    "from torch.utils.tensorboard import SummaryWriter\n",
    "import torch\n",
    "import torch.nn.functional as F\n",
    "from typing import List\n",
    "import time\n",
    "logging.basicConfig(level=logging.INFO)\n",
    "\n",
    "ds = prepare_dataset('org.universaldependencies.french.gsd')\n",
    "\n",
    "\n",
    "# Format de sortie décrit dans\n",
    "# https://pypi.org/project/conllu/\n",
    "\n",
    "class Vocabulary:\n",
    "    \"\"\"Permet de gérer un vocabulaire.\n",
    "\n",
    "    En test, il est possible qu'un mot ne soit pas dans le\n",
    "    vocabulaire : dans ce cas le token \"__OOV__\" est utilisé.\n",
    "    Attention : il faut tenir compte de cela lors de l'apprentissage !\n",
    "\n",
    "    Utilisation:\n",
    "\n",
    "    - en train, utiliser v.get(\"blah\", adding=True) pour que le mot soit ajouté\n",
    "      automatiquement\n",
    "    - en test, utiliser v[\"blah\"] pour récupérer l'ID du mot (ou l'ID de OOV)\n",
    "    \"\"\"\n",
    "    OOVID = 1\n",
    "    PAD = 0\n",
    "\n",
    "    def __init__(self, oov: bool):\n",
    "        self.oov =  oov\n",
    "        self.id2word = [ \"PAD\"]\n",
    "        self.word2id = { \"PAD\" : Vocabulary.PAD}\n",
    "        if oov:\n",
    "            self.word2id[\"__OOV__\"] = Vocabulary.OOVID\n",
    "            self.id2word.append(\"__OOV__\")\n",
    "\n",
    "    def __getitem__(self, word: str):\n",
    "        if self.oov:\n",
    "            return self.word2id.get(word, Vocabulary.OOVID)\n",
    "        return self.word2id[word]\n",
    "\n",
    "    def get(self, word: str, adding=True):\n",
    "        try:\n",
    "            return self.word2id[word]\n",
    "        except KeyError:\n",
    "            if adding:\n",
    "                wordid = len(self.id2word)\n",
    "                self.word2id[word] = wordid\n",
    "                self.id2word.append(word)\n",
    "                return wordid\n",
    "            if self.oov:\n",
    "                return Vocabulary.OOVID\n",
    "            raise\n",
    "\n",
    "    def __len__(self):\n",
    "        return len(self.id2word)\n",
    "\n",
    "    def getword(self,idx: int):\n",
    "        if idx < len(self):\n",
    "            return self.id2word[idx]\n",
    "        return None\n",
    "\n",
    "    def getwords(self,idx: List[int]):\n",
    "        return [self.getword(i) for i in idx]\n",
    "\n",
    "\n",
    "\n",
    "class TaggingDataset():\n",
    "    def __init__(self, data, words: Vocabulary, tags: Vocabulary, adding=True):\n",
    "        self.sentences = []\n",
    "\n",
    "        for s in data:\n",
    "            self.sentences.append(([words.get(token[\"form\"], adding) for token in s], [tags.get(token[\"upostag\"], adding) for token in s]))\n",
    "    def __len__(self):\n",
    "        return len(self.sentences)\n",
    "    def __getitem__(self, ix):\n",
    "        return self.sentences[ix]\n",
    "\n",
    "\n",
    "def collate(batch):\n",
    "    \"\"\"Collate using pad_sequence\"\"\"\n",
    "    return tuple(pad_sequence([torch.LongTensor(b[j]) for b in batch]) for j in range(2))\n",
    "\n",
    "\n",
    "logging.info(\"Loading datasets...\")\n",
    "words = Vocabulary(True)\n",
    "tags = Vocabulary(False)\n",
    "train_data = TaggingDataset(ds.train, words, tags, True)\n",
    "dev_data = TaggingDataset(ds.validation, words, tags, True)\n",
    "test_data = TaggingDataset(ds.test, words, tags, False)\n",
    "\n",
    "\n",
    "logging.info(\"Vocabulary size: %d\", len(words))\n",
    "\n",
    "\n",
    "BATCH_SIZE=100\n",
    "\n",
    "train_loader = DataLoader(train_data, collate_fn=collate, batch_size=BATCH_SIZE, shuffle=True)\n",
    "dev_loader = DataLoader(dev_data, collate_fn=collate, batch_size=BATCH_SIZE)\n",
    "test_loader = DataLoader(test_data, collate_fn=collate, batch_size=BATCH_SIZE)"
   ]
  },
  {
   "cell_type": "code",
   "execution_count": 3,
   "metadata": {},
   "outputs": [],
   "source": [
    "class LSTMTag(nn.Module):\n",
    "    def __init__(self, embedding_dim, hidden_dim, vocab_size, target_size):\n",
    "        super(LSTMTag, self).__init__()\n",
    "        \n",
    "        self.hidden_dim = hidden_dim\n",
    "        self.word_embeddings = nn.Embedding(vocab_size, embedding_dim)\n",
    "        self.lstm = nn.LSTM(embedding_dim, hidden_dim)\n",
    "        self.hidden2tag = nn.Linear(hidden_dim, target_size)\n",
    "        \n",
    "    def forward(self, sentence):\n",
    "        \n",
    "        embeds = self.word_embeddings(sentence)\n",
    "        lstm_out, (hidden_state, cell_state) = self.lstm(embeds)\n",
    "        tag_space = self.hidden2tag(lstm_out)\n",
    "        return tag_space"
   ]
  },
  {
   "cell_type": "code",
   "execution_count": 62,
   "metadata": {},
   "outputs": [],
   "source": [
    "EMBEDDING_DIM = 32\n",
    "HIDDEN_DIM = 32\n",
    "\n",
    "\n",
    "model = LSTMTag(EMBEDDING_DIM, HIDDEN_DIM, len(words), len(tags))\n",
    "criterion = nn.CrossEntropyLoss(ignore_index=0) # Ignore padding idx : 0\n",
    "optimizer = optim.Adam(model.parameters(), lr=1e-3)\n",
    "\n",
    "\n",
    "train_loss, train_accuracy, test_loss, test_accuracy= [], [], [], []\n",
    "for epoch in range(50):\n",
    "    # Train\n",
    "\n",
    "    model.train()\n",
    "    correct = 0; total = 0\n",
    "    for sentence, tag in train_loader:\n",
    "        b,t = target.shape\n",
    "\n",
    "        # Compute Loss\n",
    "        target = tag.permute(1,0)\n",
    "        model.zero_grad()\n",
    "        tag_scores = model(sentence).permute(1,2,0)\n",
    "        l_train = criterion(tag_scores, target)\n",
    "        l_train.backward()\n",
    "        optimizer.step()\n",
    "\n",
    "        # Compute accuracy\n",
    "        predicted = tag_scores.max(1)[1]\n",
    "        c = (target == predicted) \n",
    "        c[torch.where(target[1] == 0)] = False\n",
    "        correct += c.sum() # nb of correct prediction\n",
    "        total += b*t - len(torch.where(target == 0)[0]) # nb of tags to predict\n",
    "        \n",
    "    train_acc = 100 * correct / float(total)\n",
    "    train_accuracy.append(train_acc)\n",
    "    train_loss.append(l_train)\n",
    "\n",
    "    # Test\n",
    "\n",
    "    model.eval()\n",
    "    correct = 0 ; total = 0\n",
    "    for sentence, tag in dev_loader:\n",
    "        b,t = target.shape\n",
    "\n",
    "        # Compute Loss\n",
    "        target = tag.permute(1,0)\n",
    "        tag_scores = model(sentence).permute(1,2,0)\n",
    "        l_test = criterion(tag_scores, target)\n",
    "\n",
    "        # Compute accuracy\n",
    "        predicted = tag_scores.max(1)[1]\n",
    "        c = (target == predicted) \n",
    "        c[torch.where(target[1] == 0)] = False\n",
    "        correct += c.sum() # nb of correct prediction\n",
    "        total += b*t - len(torch.where(target == 0)[0]) # nb of tags to predict\n",
    "\n",
    "    test_acc = 100 * correct / float(total)\n",
    "    test_accuracy.append(test_acc)\n",
    "    test_loss.append(l_test)\n",
    "\n",
    "\n",
    "    print(f\"epoch {epoch} : Train Loss {'%.2f'%l_train}, Train acc {'%.2f'%train_acc}, Test Loss {'%.2f'%l_test}, Test acc {'%.2f'%test_acc}\")"
   ]
  },
  {
   "cell_type": "code",
   "execution_count": 85,
   "metadata": {},
   "outputs": [
    {
     "output_type": "execute_result",
     "data": {
      "text/plain": [
       "4153"
      ]
     },
     "metadata": {},
     "execution_count": 85
    }
   ],
   "source": [
    "len(torch.where(target == 0)[0])"
   ]
  },
  {
   "cell_type": "code",
   "execution_count": 94,
   "metadata": {},
   "outputs": [
    {
     "output_type": "execute_result",
     "data": {
      "text/plain": [
       "tensor([12, 12, 10,  5,  1, 14,  2, 14,  7, 12,  7, 12, 13,  5,  1, 14,  2, 14,\n",
       "         7, 12, 12, 12,  7,  1,  3,  2, 10,  4,  1,  2,  7,  2,  3, 10,  9,  5,\n",
       "         7,  6,  8,  2,  7,  2, 10,  0,  0,  0,  0,  0,  0,  0,  0,  0,  0,  0,\n",
       "         0,  0,  0,  0,  0,  0,  0,  0,  0,  0,  0,  0,  0])"
      ]
     },
     "metadata": {},
     "execution_count": 94
    }
   ],
   "source": [
    "target[1]"
   ]
  },
  {
   "cell_type": "code",
   "execution_count": 95,
   "metadata": {},
   "outputs": [
    {
     "output_type": "execute_result",
     "data": {
      "text/plain": [
       "tensor([ 5,  5, 12,  5, 16, 14,  7, 14, 14, 14, 14, 14,  5,  6,  6,  7,  7,  7,\n",
       "         7,  7, 14, 14, 14, 12,  6,  0,  6, 17, 17, 12, 12, 14, 10, 14, 12, 14,\n",
       "        14, 14, 14, 14, 14,  7, 17, 12, 12,  7,  7,  7,  7,  7,  7,  7,  7,  7,\n",
       "         7,  7,  7,  7,  7,  7,  7,  7,  7,  7,  7,  7,  7])"
      ]
     },
     "metadata": {},
     "execution_count": 95
    }
   ],
   "source": [
    "predicted[1]"
   ]
  },
  {
   "cell_type": "code",
   "execution_count": 96,
   "metadata": {},
   "outputs": [],
   "source": [
    "b = (target[1] == predicted[1])"
   ]
  },
  {
   "cell_type": "code",
   "execution_count": 99,
   "metadata": {},
   "outputs": [
    {
     "output_type": "execute_result",
     "data": {
      "text/plain": [
       "tensor([False, False, False,  True, False,  True, False,  True, False, False,\n",
       "        False, False, False, False, False, False, False, False,  True, False,\n",
       "        False, False, False, False, False, False, False, False, False, False,\n",
       "        False, False, False, False, False, False, False, False, False, False,\n",
       "        False, False, False, False, False, False, False, False, False, False,\n",
       "        False, False, False, False, False, False, False, False, False, False,\n",
       "        False, False, False, False, False, False, False])"
      ]
     },
     "metadata": {},
     "execution_count": 99
    }
   ],
   "source": [
    "b"
   ]
  },
  {
   "cell_type": "code",
   "execution_count": 98,
   "metadata": {},
   "outputs": [],
   "source": [
    "b[torch.where(target[1] == 0)] = False"
   ]
  },
  {
   "cell_type": "code",
   "execution_count": null,
   "metadata": {},
   "outputs": [],
   "source": [
    "print(\"Training Finished!!!\\nAgain testing on unknown data\")\n",
    "with torch.no_grad():\n",
    "    for seq in [seq1, seq2]:\n",
    "        inputs = prepare_sequence(seq, word_to_ix)\n",
    "        tag_scores = model(inputs)\n",
    "        _, indices = torch.max(tag_scores, 1)\n",
    "        ret = []\n",
    "        for i in range(len(indices)):\n",
    "            for key, value in tag_to_ix.items():\n",
    "                if indices[i] == value:\n",
    "                    ret.append((seq[i], key))\n",
    "        print(ret)"
   ]
  },
  {
   "cell_type": "code",
   "execution_count": null,
   "metadata": {},
   "outputs": [],
   "source": []
  }
 ],
 "metadata": {
  "kernelspec": {
   "display_name": "Python 3.8.2 64-bit",
   "language": "python",
   "name": "python38264bit4e7958304e6340d8b3815d40265de01f"
  },
  "language_info": {
   "codemirror_mode": {
    "name": "ipython",
    "version": 3
   },
   "file_extension": ".py",
   "mimetype": "text/x-python",
   "name": "python",
   "nbconvert_exporter": "python",
   "pygments_lexer": "ipython3",
   "version": "3.8.5-final"
  }
 },
 "nbformat": 4,
 "nbformat_minor": 4
}